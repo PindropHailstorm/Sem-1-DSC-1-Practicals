{
  "nbformat": 4,
  "nbformat_minor": 0,
  "metadata": {
    "colab": {
      "provenance": [],
      "authorship_tag": "ABX9TyO4QoJfdgV1yTgNqtnzmjnf"
    },
    "kernelspec": {
      "name": "python3",
      "display_name": "Python 3"
    },
    "language_info": {
      "name": "python"
    }
  },
  "cells": [
    {
      "cell_type": "code",
      "execution_count": 3,
      "metadata": {
        "colab": {
          "base_uri": "https://localhost:8080/"
        },
        "id": "kC513RpiPKms",
        "outputId": "00ff00ab-3b00-45ce-9b21-f40e5d15689c"
      },
      "outputs": [
        {
          "output_type": "stream",
          "name": "stdout",
          "text": [
            "Enter a number to check if it's prime: 97\n",
            "Enter a number: 23\n",
            "Enter a value of n: 3\n",
            "97 is a prime number\n",
            "Prime numbers till 3: [2, 3]\n",
            "First 3 prime numbers: [2, 3, 5]\n"
          ]
        }
      ],
      "source": [
        "#Problem 2 WAP to accept a number ‘n’ and j. Check if ’n’is prime k. Generate all prime numbers till ‘n’ l. Generate first ‘n’ prime numbers\n",
        "\n",
        "\n",
        "def is_prime(num):\n",
        "    \"\"\"\n",
        "    This function checks if a number is prime.\n",
        "    \"\"\"\n",
        "    if num < 2:\n",
        "        return False\n",
        "    for i in range(2, int(num**0.5) + 1):\n",
        "        if num % i == 0:\n",
        "            return False\n",
        "    return True\n",
        "\n",
        "def primes_till_n(n):\n",
        "    \"\"\"\n",
        "    This function generates all prime numbers till 'n'.\n",
        "    \"\"\"\n",
        "    primes = []\n",
        "    for i in range(2, n+1):\n",
        "        if is_prime(i):\n",
        "            primes.append(i)\n",
        "    return primes\n",
        "\n",
        "def first_n_primes(n):\n",
        "    \"\"\"\n",
        "    This function generates the first 'n' prime numbers.\n",
        "    \"\"\"\n",
        "    primes = []\n",
        "    num = 2\n",
        "    while len(primes) < n:\n",
        "        if is_prime(num):\n",
        "            primes.append(num)\n",
        "        num += 1\n",
        "    return primes\n",
        "\n",
        "# Accept input from the user\n",
        "num = int(input(\"Enter a number to check if it's prime: \"))\n",
        "j = int(input(\"Enter a number: \"))\n",
        "n = int(input(\"Enter a value of n: \"))\n",
        "\n",
        "# Check if 'num' is prime\n",
        "if is_prime(num):\n",
        "    print(f\"{num} is a prime number\")\n",
        "else:\n",
        "    print(f\"{num} is not a prime number\")\n",
        "\n",
        "# Generate all prime numbers till 'n'\n",
        "print(f\"Prime numbers till {n}: {primes_till_n(n)}\")\n",
        "\n",
        "# Generate the first 'n' prime numbers\n",
        "print(f\"First {n} prime numbers: {first_n_primes(n)}\")\n"
      ]
    },
    {
      "cell_type": "code",
      "source": [
        "#3. WAP to create a pyramid of the character ‘*’ and a reverse pyramid\n",
        "# Pyramid\n",
        "def create_pyramid(height):\n",
        "    for i in range(1, height+1):\n",
        "        print(\" \"*(height-i), end=\"\")\n",
        "        print(\"*\"*(2*i-1), end=\"\")\n",
        "        print(\" \"*(height-i))\n",
        "    print(\"\\n\")\n",
        "# Reverse Pyramid\n",
        "def create_reverse_pyramid(height):\n",
        "    for i in range(height, 0, -1):\n",
        "        print(\" \"*(height-i), end=\"\")\n",
        "        print(\"*\"*(2*i-1), end=\"\")\n",
        "        print(\" \"*(height-i))\n",
        "    \n",
        "\n",
        "# Main\n",
        "height = int(input(\"Enter the height of the pyramid: \"))\n",
        "\n",
        "# Create Pyramid\n",
        "print(\"Pyramid:\")\n",
        "create_pyramid(height)\n",
        "\n",
        "# Create Reverse Pyramid\n",
        "print(\"Reverse Pyramid:\")\n",
        "create_reverse_pyramid(height)\n",
        "\n",
        "\n"
      ],
      "metadata": {
        "id": "0KMUuj7ARbAK"
      },
      "execution_count": null,
      "outputs": []
    },
    {
      "cell_type": "code",
      "source": [
        "#WAP that accepts a character and performs the following: a. print whether the character is a letter or numeric digit or a special character \n",
        " \n",
        "#b.if the character is a letter, print whether the letter is uppercase or lowercase c. if the character is a numeric digit, prints its name in text (e.g., if input is 9 output is NINE)\n",
        "\n",
        "def char_type(char):\n",
        "    \"\"\"\n",
        "    This function prints the type of a character.\n",
        "    \"\"\"\n",
        "    if char.isalpha():\n",
        "        print(f\"{char} is a letter\")\n",
        "        if char.isupper():\n",
        "            print(f\"{char} is uppercase\")\n",
        "        elif char.islower():\n",
        "            print(f\"{char} is lowercase\")\n",
        "    elif char.isdigit():\n",
        "        print(f\"{char} is a numeric digit\")\n",
        "        print(f\"Name of the digit: {get_digit_name(char)}\")\n",
        "    else:\n",
        "        print(f\"{char} is a special character\")\n",
        "\n",
        "def get_digit_name(digit):\n",
        "    \"\"\"\n",
        "    This function returns the name of a digit in text.\n",
        "    \"\"\"\n",
        "    digit_names = [\"ZERO\", \"ONE\", \"TWO\", \"THREE\", \"FOUR\", \"FIVE\", \"SIX\", \"SEVEN\", \"EIGHT\", \"NINE\"]\n",
        "    return digit_names[int(digit)]\n",
        "\n",
        "# Accept input from the user\n",
        "char = input(\"Enter a character: \")\n",
        "\n",
        "# Print the type of the character\n",
        "char_type(char)\n"
      ],
      "metadata": {
        "id": "aVi-QyPGUVfH"
      },
      "execution_count": null,
      "outputs": []
    },
    {
      "cell_type": "code",
      "source": [
        "#WAP to perform the following operations on a string \n",
        "#a. Find the frequency of a character in a string. \n",
        "#b. Replace a character by another character in a string. \n",
        "#c. Remove the first occurrence of a character from a string. \n",
        "#d. Remove all occurrences of a character from a string.\n",
        "# Take input from user for string, character to replace, and replacement character\n",
        "string = input(\"Enter a string: \")\n",
        "char = input(\"Enter a character to replace: \")\n",
        "replacement_char = input(\"Enter the replacement character: \")\n",
        "\n",
        "# Find the frequency of a character in a string\n",
        "count = string.count(char)\n",
        "print(\"The frequency of the character\", char, \"in the string is:\", count)\n",
        "\n",
        "# Replace a character by another character in a string\n",
        "new_string = string.replace(char, replacement_char)\n",
        "print(\"The new string after replacing\", char, \"with\", replacement_char, \"is:\", new_string)\n",
        "\n",
        "# Remove the first occurrence of a character from a string\n",
        "new_string = string.replace(char, \"\", 1)\n",
        "print(\"The new string after removing the first occurrence of\", char, \"is:\", new_string)\n",
        "\n",
        "# Remove all occurrences of a character from a string\n",
        "new_string = string.replace(char, \"\")\n",
        "print(\"The new string after removing all occurrences of\", char, \"is:\", new_string)\n",
        "\n"
      ],
      "metadata": {
        "colab": {
          "base_uri": "https://localhost:8080/"
        },
        "id": "vbVAij_LUiXt",
        "outputId": "8453db19-6b46-49e1-e594-2ce6123b7c67"
      },
      "execution_count": 15,
      "outputs": [
        {
          "output_type": "stream",
          "name": "stdout",
          "text": [
            "Enter a string: Hello gamer1\n",
            "Enter a character to replace: l\n",
            "Enter the replacement character: w\n",
            "The frequency of the character l in the string is: 2\n",
            "The new string after replacing l with w is: Hewwo gamer1\n",
            "The new string after removing the first occurrence of l is: Helo gamer1\n",
            "The new string after removing all occurrences of l is: Heo gamer1\n"
          ]
        }
      ]
    },
    {
      "cell_type": "code",
      "source": [
        "    #SWAP\n",
        "    str1 = input(\"Please Enter First String : \")\n",
        "    str2 = input(\"Please Enter Second String : \")\n",
        "    n = int(input(\"Enter no. of chars to swap : \"))\n",
        "    x=str1[0:n]\n",
        " \n",
        "    str1=str1.replace(str1[0:n],str2[0:n])\n",
        " \n",
        "    str2=str2.replace(str2[0:n],x)\n",
        " \n",
        "    print(\"Your first string has become :- \",str1)\n",
        "    print(\"Your second string has become :- \",str2)"
      ],
      "metadata": {
        "colab": {
          "base_uri": "https://localhost:8080/"
        },
        "id": "5BPvqpHLZkLx",
        "outputId": "06c54e7b-d32b-48d8-e549-f2bbd61ab492"
      },
      "execution_count": 19,
      "outputs": [
        {
          "output_type": "stream",
          "name": "stdout",
          "text": [
            "Please Enter First String : 00I\n",
            "Please Enter Second String : YH7\n",
            "Enter no. of chars to swap : 8\n",
            "Your first string has become :-  YH7\n",
            "Your second string has become :-  00I\n"
          ]
        }
      ]
    },
    {
      "cell_type": "code",
      "source": [
        "    str1 = str(input(\"Enter a string: \"))\n",
        "    str2 = str(input(\"Enter another string: \"))\n",
        "\n",
        "    indices = []\n",
        "    index = -1\n",
        "    while True:\n",
        "        index = str1.find(str2, index + 1)\n",
        "        if index == -1:\n",
        "            break\n",
        "        indices.append(index)\n",
        "    if indices == []:\n",
        "        print(-1)\n",
        "    else:\n",
        "        print(indices)\n"
      ],
      "metadata": {
        "colab": {
          "base_uri": "https://localhost:8080/"
        },
        "id": "X3b0skXvdmYi",
        "outputId": "a13b95d5-6586-493d-a869-a7aa5c78c13e"
      },
      "execution_count": 21,
      "outputs": [
        {
          "output_type": "stream",
          "name": "stdout",
          "text": [
            "Enter a string: 8cu\n",
            "Enter another string: wcf\n",
            "-1\n"
          ]
        }
      ]
    },
    {
      "cell_type": "code",
      "source": [
        "#WAP to create a list of the cubes of only the even integers appearing in the input list (may have elements of other types also) using the following:\n",
        "# a. 'for' loop \n",
        "# b. list comprehension\n",
        "# Function to create a list of the cubes of only the even integers in the input list using a 'for' loop\n",
        "def even_cubes_for_loop(lst):\n",
        "    result = []\n",
        "    for i in lst:\n",
        "        if isinstance(i, int) and i % 2 == 0:\n",
        "            result.append(i**3)\n",
        "    return result\n",
        "\n",
        "# Function to create a list of the cubes of only the even integers in the input list using a list comprehension\n",
        "def even_cubes_list_comp(lst):\n",
        "    return [i**3 for i in lst if isinstance(i, int) and i % 2 == 0]\n",
        "\n",
        "# Prompt user to enter a list of elements\n",
        "input_list = input(\"Enter a list of elements separated by commas: \").split(',')\n",
        "\n",
        "# Convert the input elements to their respective data types\n",
        "input_list = [eval(elem.strip()) for elem in input_list]\n",
        "\n",
        "# Call the two functions to create a list of the cubes of only the even integers in the input list\n",
        "even_cubes_1 = even_cubes_for_loop(input_list)\n",
        "even_cubes_2 = even_cubes_list_comp(input_list)\n",
        "\n",
        "# Print the resulting lists\n",
        "print(\"Cubes of even integers (using for loop): \", even_cubes_1)\n",
        "print(\"Cubes of even integers (using list comprehension): \", even_cubes_2)\n",
        "\n",
        "\n"
      ],
      "metadata": {
        "colab": {
          "base_uri": "https://localhost:8080/"
        },
        "id": "fslo7RxUh9d8",
        "outputId": "984cc0d4-c5fb-4299-d0b5-270ee9da6d76"
      },
      "execution_count": 25,
      "outputs": [
        {
          "output_type": "stream",
          "name": "stdout",
          "text": [
            "Enter a list of elements separated by commas: 64,128,256\n",
            "Cubes of even integers (using for loop):  [262144, 2097152, 16777216]\n",
            "Cubes of even integers (using list comprehension):  [262144, 2097152, 16777216]\n"
          ]
        }
      ]
    },
    {
      "cell_type": "code",
      "source": [
        "'''\n",
        "Consider a tuple t1=(1, 2, 5, 7, 9, 2, 4, 6, 8, 10). WAP to perform following operations: \n",
        "a. Print half the values of the tuple in one line and the other half in the next line. \n",
        "b. Print another tuple whose values are even numbers in the given tuple. \n",
        "c. Concatenate a tuple t2=(11,13,15) with t1. d. Return maximum and minimum value from this tuple\n",
        "'''\n",
        "\n",
        "t1 = (1,2,5,9,2,4,6,8,10)\n",
        "t2 = (11,13,15)\n",
        "print(t1[0:5], \"\\n\")\n",
        "print(t1[5:], \"\\n\")\n",
        "even = ()\n",
        "for i in t1:\n",
        "  if i%2 == 0:\n",
        "    even = even + (i,)\n",
        "print(even)\n",
        "print(t1+t2, \"\\n\")\n",
        "print(\"Minimum value is: \", min(t1+t2), \"\\n\", \"Maximum value is: \", max(t1+t2))\n"
      ],
      "metadata": {
        "colab": {
          "base_uri": "https://localhost:8080/"
        },
        "id": "Q--Y5bphiRb2",
        "outputId": "d2cfd1a2-ea86-4d7d-ff13-c10247ff7a4f"
      },
      "execution_count": 28,
      "outputs": [
        {
          "output_type": "stream",
          "name": "stdout",
          "text": [
            "(1, 2, 5, 9, 2) \n",
            "\n",
            "(4, 6, 8, 10) \n",
            "\n",
            "(2, 2, 4, 6, 8, 10)\n",
            "(1, 2, 5, 9, 2, 4, 6, 8, 10, 11, 13, 15) \n",
            "\n",
            "Minimum value is:  1 \n",
            " Maximum value is:  15\n"
          ]
        }
      ]
    },
    {
      "cell_type": "code",
      "source": [
        "'''\n",
        "WAP to accept a name from a user. Raise and handle appropriate exception(s) if the text entered by the user contains digits and/or special characters.\n",
        "\n",
        "'''\n",
        "def check_name(name):\n",
        "    # Check if name contains digits or special characters\n",
        "    if any(char.isdigit() or not char.isalpha() for char in name):\n",
        "        raise ValueError(\"Name should only contain letters\")\n",
        "    return name\n",
        "\n",
        "# Prompt user to enter a name\n",
        "name = input(\"Enter your name: \")\n",
        "\n",
        "# Try to check if the name is valid\n",
        "try:\n",
        "    valid_name = check_name(name)\n",
        "    print(\"Valid name entered: \", valid_name)\n",
        "except ValueError as e:\n",
        "    print(\"Invalid name entered. Error message: \", e)\n"
      ],
      "metadata": {
        "colab": {
          "base_uri": "https://localhost:8080/"
        },
        "id": "Pr8Mo8zHohm5",
        "outputId": "e69018fa-9f5a-4b52-a1a9-a8ea4c619b38"
      },
      "execution_count": 30,
      "outputs": [
        {
          "output_type": "stream",
          "name": "stdout",
          "text": [
            "Enter your name: 4\n",
            "Invalid name entered. Error message:  Name should only contain letters\n"
          ]
        }
      ]
    },
    {
      "cell_type": "code",
      "source": [
        "a = int(input(\"number of terms: \"))\n",
        "y = {}\n",
        "for i in range(1,a+1):\n",
        "    x = {i:i**3}\n",
        "    y.update(x)\n",
        "\n"
      ],
      "metadata": {
        "colab": {
          "base_uri": "https://localhost:8080/"
        },
        "id": "0LXpU8vRt8jV",
        "outputId": "b4054024-004e-465f-ade8-4c907abfff6a"
      },
      "execution_count": 31,
      "outputs": [
        {
          "name": "stdout",
          "output_type": "stream",
          "text": [
            "number of terms: 3\n"
          ]
        }
      ]
    },
    {
      "cell_type": "code",
      "source": [
        "#Write a function that prints a dictionary where the keys are numbers between 1 and 5 and the values are cubes of the keys.\n",
        "\n",
        "\n",
        "def cube_dict():\n",
        "    cube_dict = {}\n",
        "    for i in range(1, 6):\n",
        "        cube_dict[i] = i ** 3\n",
        "    return cube_dict\n",
        "my_dict = cube_dict()\n",
        "print(my_dict)\n"
      ],
      "metadata": {
        "colab": {
          "base_uri": "https://localhost:8080/"
        },
        "id": "Sj8ManKQt9u-",
        "outputId": "5935127d-7440-43e1-b85c-5abc89295b9b"
      },
      "execution_count": 33,
      "outputs": [
        {
          "output_type": "stream",
          "name": "stdout",
          "text": [
            "{1: 1, 2: 8, 3: 27, 4: 64, 5: 125}\n"
          ]
        }
      ]
    },
    {
      "cell_type": "code",
      "source": [
        "#WAP to define a class Point with coordinates x and y as attributes. Create relevant methods and print the objects. \n",
        "#Also define a method distance to calculate the distance between any two point objects.\n",
        "import math\n",
        "\n",
        "class Point:\n",
        "    def __init__(self, x, y):\n",
        "        self.x = x\n",
        "        self.y = y\n",
        "    \n",
        "    def __str__(self):\n",
        "        return f\"({self.x}, {self.y})\"\n",
        "    \n",
        "    def distance(self, other):\n",
        "        return math.sqrt((other.x - self.x)**2 + (other.y - self.y)**2)\n",
        "\n",
        "# Get input from user\n",
        "x1 = float(input(\"Enter the x-coordinate for point 1: \"))\n",
        "y1 = float(input(\"Enter the y-coordinate for point 1: \"))\n",
        "x2 = float(input(\"Enter the x-coordinate for point 2: \"))\n",
        "y2 = float(input(\"Enter the y-coordinate for point 2: \"))\n",
        "\n",
        "# Create point objects\n",
        "p1 = Point(x1, y1)\n",
        "p2 = Point(x2, y2)\n",
        "\n",
        "# Print the points\n",
        "print(\"Point 1: \", p1)\n",
        "print(\"Point 2: \", p2)\n",
        "\n",
        "# Calculate the distance between two points\n",
        "dist = p1.distance(p2)\n",
        "print(\"Distance between point 1 and point 2: \", dist)\n",
        "\n",
        "\n"
      ],
      "metadata": {
        "colab": {
          "base_uri": "https://localhost:8080/"
        },
        "id": "f3HD4EsEvAH-",
        "outputId": "59f7e7b3-dffd-4170-e579-dda8a8ac9e55"
      },
      "execution_count": 34,
      "outputs": [
        {
          "output_type": "stream",
          "name": "stdout",
          "text": [
            "Enter the x-coordinate for point 1: 5\n",
            "Enter the y-coordinate for point 1: 9\n",
            "Enter the x-coordinate for point 2: 4\n",
            "Enter the y-coordinate for point 2: 2\n",
            "Point 1:  (5.0, 9.0)\n",
            "Point 2:  (4.0, 2.0)\n",
            "Distance between point 1 and point 2:  7.0710678118654755\n"
          ]
        }
      ]
    },
    {
      "cell_type": "code",
      "source": [
        "'''\n",
        "WAP to read a file and \n",
        "m. Print the total number of characters, words and lines in the file. \n",
        "n. Calculate the frequency of each character in the file. Use a variable of dictionary type to maintain the count. \n",
        "o. Print the words in reverse order. \n",
        "p. Copy even lines of the file to a file named ‘File1’ and odd lines to another file named ‘File2’\n",
        "\n",
        "'''\n",
        "\n",
        "# Open the file for reading\n",
        "with open('input_file.txt', 'r') as file:\n",
        "    data = file.read()\n",
        "\n",
        "# Calculate total characters, words, and lines\n",
        "num_chars = len(data)\n",
        "num_words = len(data.split())\n",
        "num_lines = len(data.split('\\n'))\n",
        "\n",
        "# Calculate character frequency\n",
        "char_frequency = {}\n",
        "for char in data:\n",
        "    if char in char_frequency:\n",
        "        char_frequency[char] += 1\n",
        "    else:\n",
        "        char_frequency[char] = 1\n",
        "\n",
        "# Print the results\n",
        "print(\"Total characters: \", num_chars)\n",
        "print(\"Total words: \", num_words)\n",
        "print(\"Total lines: \", num_lines)\n",
        "print(\"Character frequency: \", char_frequency)\n",
        "\n",
        "# Print the words in reverse order\n",
        "words = data.split()\n",
        "words.reverse()\n",
        "print(\"Words in reverse order: \", \" \".join(words))\n",
        "\n",
        "# Copy even and odd lines to separate files\n",
        "with open('File1', 'w') as file1, open('File2', 'w') as file2:\n",
        "    lines = data.split('\\n')\n",
        "    for i in range(len(lines)):\n",
        "        if i % 2 == 0:\n",
        "            file1.write(lines[i] + '\\n')\n",
        "        else:\n",
        "            file2.write(lines[i] + '\\n')\n"
      ],
      "metadata": {
        "id": "XqjIw6jlEqFt"
      },
      "execution_count": null,
      "outputs": []
    },
    {
      "cell_type": "code",
      "source": [
        "print(\"To find the roots of a quadratic equation of the form ax^2 + bx + c, please input the values of a, b and c\")\n",
        "a = int(input(\"Input the value of a , a = \"))\n",
        "b = int(input(\"Input the value of b , b = \"))\n",
        "c = int(input(\"Input the value of c , c = \"))\n",
        "\n",
        "root1 = (-b + (b ** 2 - 4 * a * c) ** 0.5) / 2 * a\n",
        "root2 = (-b - (b ** 2 - 4 * a * c) ** 0.5) / 2 * a\n",
        "if root1!=root2:\n",
        "   print(\"The roots of the equation  are\", root1, root2)\n",
        "else: print(\"The root of the equation is\", root1)"
      ],
      "metadata": {
        "colab": {
          "base_uri": "https://localhost:8080/"
        },
        "id": "2rJuNn-6FQHe",
        "outputId": "91e76f73-aedb-4ed6-ddb3-05e3ef39e764"
      },
      "execution_count": 3,
      "outputs": [
        {
          "output_type": "stream",
          "name": "stdout",
          "text": [
            "To find the roots of a quadratic equation of the form ax^2 + bx + c, please input the values of a, b and c\n",
            "Input the value of a , a = 1\n",
            "Input the value of b , b = 5\n",
            "Input the value of c , c = 6\n",
            "The roots of the equation  are -2.0 -3.0\n"
          ]
        }
      ]
    }
  ]
}