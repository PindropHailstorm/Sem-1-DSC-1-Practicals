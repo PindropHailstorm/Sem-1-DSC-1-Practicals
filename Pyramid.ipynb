{
  "nbformat": 4,
  "nbformat_minor": 0,
  "metadata": {
    "colab": {
      "provenance": [],
      "authorship_tag": "ABX9TyNpUilMaMOf1P5yv6xhZ4JC",
      "include_colab_link": true
    },
    "kernelspec": {
      "name": "python3",
      "display_name": "Python 3"
    },
    "language_info": {
      "name": "python"
    }
  },
  "cells": [
    {
      "cell_type": "markdown",
      "metadata": {
        "id": "view-in-github",
        "colab_type": "text"
      },
      "source": [
        "<a href=\"https://colab.research.google.com/github/PindropHailstorm/Sem-1-DSC-1-Practicals/blob/main/Pyramid.ipynb\" target=\"_parent\"><img src=\"https://colab.research.google.com/assets/colab-badge.svg\" alt=\"Open In Colab\"/></a>"
      ]
    },
    {
      "cell_type": "code",
      "execution_count": null,
      "metadata": {
        "colab": {
          "base_uri": "https://localhost:8080/"
        },
        "id": "C0A729OzkXFz",
        "outputId": "ffdfd0bd-6fa8-475c-e641-88c91ae1e76d"
      },
      "outputs": [
        {
          "output_type": "stream",
          "name": "stdout",
          "text": [
            "Pyramid\n",
            "\n"
          ]
        }
      ],
      "source": [
        "#Pyramid"
      ]
    },
    {
      "cell_type": "code",
      "source": [
        "base = int(input(\"length of the pyramid = \"))\n",
        "a = \" \"\n",
        "b = \"* \"\n",
        "n = base+1\n",
        "m = 1\n",
        "for i in range(base):\n",
        "  print(n*a,m*b)\n",
        "  n -= 1\n",
        "  m += 1\n",
        "  \n"
      ],
      "metadata": {
        "id": "SsbQr8deoTQW",
        "colab": {
          "base_uri": "https://localhost:8080/"
        },
        "outputId": "e0943454-caac-412e-b2f3-7050b6809229"
      },
      "execution_count": null,
      "outputs": [
        {
          "output_type": "stream",
          "name": "stdout",
          "text": [
            "length of the pyramid = 7\n",
            "         * \n",
            "        * * \n",
            "       * * * \n",
            "      * * * * \n",
            "     * * * * * \n",
            "    * * * * * * \n",
            "   * * * * * * * \n"
          ]
        }
      ]
    }
  ]
}