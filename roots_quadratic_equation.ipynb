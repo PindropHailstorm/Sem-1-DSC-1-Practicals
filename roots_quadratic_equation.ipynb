{
  "nbformat": 4,
  "nbformat_minor": 0,
  "metadata": {
    "colab": {
      "provenance": [],
      "authorship_tag": "ABX9TyOZBfYy+3ugovPxYQgcm/oz"
    },
    "kernelspec": {
      "name": "python3",
      "display_name": "Python 3"
    },
    "language_info": {
      "name": "python"
    }
  },
  "cells": [
    {
      "cell_type": "code",
      "execution_count": null,
      "metadata": {
        "colab": {
          "base_uri": "https://localhost:8080/"
        },
        "id": "Y8Sxwe_qHegH",
        "outputId": "3c975b04-4205-4727-baf9-9bb7732a9c65",
        "cellView": "form"
      },
      "outputs": [
        {
          "output_type": "stream",
          "name": "stdout",
          "text": [
            "To find the roots of a quadratic equation of the form ax^2 + bx + c, please input the values of a, b and c\n"
          ]
        }
      ],
      "source": [
        "#@title\n",
        "print(\"To find the roots of a quadratic equation of the form ax^2 + bx + c, please input the values of a, b and c\")"
      ]
    },
    {
      "cell_type": "code",
      "source": [
        "#@title\n",
        "a = input(\"Input the value of a , a = \")\n",
        "a = int(a)"
      ],
      "metadata": {
        "colab": {
          "base_uri": "https://localhost:8080/"
        },
        "id": "TttzoIvZI6I8",
        "outputId": "22d51efc-21b3-4d80-beb7-a683917b9f73",
        "cellView": "form"
      },
      "execution_count": null,
      "outputs": [
        {
          "name": "stdout",
          "output_type": "stream",
          "text": [
            "Input the value of a , a = 1\n"
          ]
        }
      ]
    },
    {
      "cell_type": "code",
      "source": [
        "#@title\n",
        "b = input(\"Input the value of b , b = \")\n",
        "b = int(b)"
      ],
      "metadata": {
        "colab": {
          "base_uri": "https://localhost:8080/"
        },
        "id": "7T3oMJNuJBCT",
        "outputId": "d75a099f-2704-4c7a-df64-1de5caf1e72c",
        "cellView": "form"
      },
      "execution_count": null,
      "outputs": [
        {
          "name": "stdout",
          "output_type": "stream",
          "text": [
            "Input the value of b , b = 1\n"
          ]
        }
      ]
    },
    {
      "cell_type": "code",
      "source": [
        "#@title\n",
        "c = input(\"Input the value of c , c = \")\n",
        "c = int(c)"
      ],
      "metadata": {
        "colab": {
          "base_uri": "https://localhost:8080/"
        },
        "id": "M9FF5ywiJthf",
        "outputId": "0badd15f-e00e-4183-ff88-1666e8d3e4c5",
        "cellView": "form"
      },
      "execution_count": null,
      "outputs": [
        {
          "name": "stdout",
          "output_type": "stream",
          "text": [
            "Input the value of c , c = 1\n"
          ]
        }
      ]
    },
    {
      "cell_type": "code",
      "source": [
        "#@title\n",
        "root1 = (-b + (b ** 2 - 4 * a * c) ** 0.5) / 2 * a\n",
        "root2 = (-b + (b ** 2 - 4 * a * c) ** 0.5) / 2 * a\n",
        "if root1!=root2:\n",
        "   print(\"The roots of the equation  are\", root1, root2)\n",
        "else: print(\"The root of the equation is\", root1)"
      ],
      "metadata": {
        "id": "aiHVj0vHKBMP",
        "colab": {
          "base_uri": "https://localhost:8080/"
        },
        "cellView": "form",
        "outputId": "5b604fb4-b013-45b5-845b-61062d6a7095"
      },
      "execution_count": null,
      "outputs": [
        {
          "output_type": "stream",
          "name": "stdout",
          "text": [
            "The root of the equation is (-0.49999999999999994+0.8660254037844386j)\n"
          ]
        }
      ]
    },
    {
      "cell_type": "code",
      "source": [
        "#@title\n"
      ],
      "metadata": {
        "cellView": "form",
        "id": "AxQq7TSSkDfe"
      },
      "execution_count": null,
      "outputs": []
    }
  ]
}