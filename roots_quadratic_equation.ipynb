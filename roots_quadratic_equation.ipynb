{
  "nbformat": 4,
  "nbformat_minor": 0,
  "metadata": {
    "colab": {
      "provenance": [],
      "authorship_tag": "ABX9TyNy0Mo65bfebHZ9wvuikDLw"
    },
    "kernelspec": {
      "name": "python3",
      "display_name": "Python 3"
    },
    "language_info": {
      "name": "python"
    }
  },
  "cells": [
    {
      "cell_type": "code",
      "execution_count": 32,
      "metadata": {
        "colab": {
          "base_uri": "https://localhost:8080/"
        },
        "id": "Y8Sxwe_qHegH",
        "outputId": "8aaa17e2-b756-4c7e-e12e-5103d6241a50"
      },
      "outputs": [
        {
          "output_type": "stream",
          "name": "stdout",
          "text": [
            "To find the roots of a quadratic equation of the form ax^2 + bx + c, please input the values of a, b and c\n"
          ]
        }
      ],
      "source": [
        "\n",
        "print(\"To find the roots of a quadratic equation of the form ax^2 + bx + c, please input the values of a, b and c\")"
      ]
    },
    {
      "cell_type": "code",
      "source": [
        "a = input(\"Input the value of a , a = \")\n",
        "a = int(a)"
      ],
      "metadata": {
        "colab": {
          "base_uri": "https://localhost:8080/"
        },
        "id": "TttzoIvZI6I8",
        "outputId": "7aa8dc64-6781-4003-e8d3-0ef5ccbd385c"
      },
      "execution_count": 33,
      "outputs": [
        {
          "name": "stdout",
          "output_type": "stream",
          "text": [
            "Input the value of a , a = 1\n"
          ]
        }
      ]
    },
    {
      "cell_type": "code",
      "source": [
        "b = input(\"Input the value of b , b = \")\n",
        "b = int(b)"
      ],
      "metadata": {
        "colab": {
          "base_uri": "https://localhost:8080/"
        },
        "id": "7T3oMJNuJBCT",
        "outputId": "50b799a3-2f1c-454f-f07c-0217beba523a"
      },
      "execution_count": 34,
      "outputs": [
        {
          "name": "stdout",
          "output_type": "stream",
          "text": [
            "Input the value of b , b = -5\n"
          ]
        }
      ]
    },
    {
      "cell_type": "code",
      "source": [
        "\n",
        "c = input(\"Input the value of c , c = \")\n",
        "c = int(c)"
      ],
      "metadata": {
        "colab": {
          "base_uri": "https://localhost:8080/"
        },
        "id": "M9FF5ywiJthf",
        "outputId": "75c7f2eb-4cd7-4f45-c9db-d99ebcac49d9"
      },
      "execution_count": 35,
      "outputs": [
        {
          "name": "stdout",
          "output_type": "stream",
          "text": [
            "Input the value of c , c = 6\n"
          ]
        }
      ]
    },
    {
      "cell_type": "code",
      "source": [
        "root1 = (-b + (b ** 2 - 4 * a * c) ** 0.5) / 2 * a\n",
        "root2 = (-b + (b ** 2 - 4 * a * c) ** 0.5) / 2 * a\n",
        "if root1!=root2:\n",
        "   print(\"The roots of the equation  are\", root1, root2)\n",
        "else: print(\"The root of the equation is\", root1)"
      ],
      "metadata": {
        "id": "aiHVj0vHKBMP",
        "colab": {
          "base_uri": "https://localhost:8080/"
        },
        "outputId": "69829019-326b-4dba-c92e-7733db27920f"
      },
      "execution_count": 36,
      "outputs": [
        {
          "output_type": "stream",
          "name": "stdout",
          "text": [
            "The root of the equation is 3.0\n"
          ]
        }
      ]
    },
    {
      "cell_type": "code",
      "source": [],
      "metadata": {
        "id": "AxQq7TSSkDfe"
      },
      "execution_count": 36,
      "outputs": []
    }
  ]
}