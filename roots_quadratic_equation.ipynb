{
  "nbformat": 4,
  "nbformat_minor": 0,
  "metadata": {
    "colab": {
      "provenance": [],
      "authorship_tag": "ABX9TyNy0Mo65bfebHZ9wvuikDLw",
      "include_colab_link": true
    },
    "kernelspec": {
      "name": "python3",
      "display_name": "Python 3"
    },
    "language_info": {
      "name": "python"
    }
  },
  "cells": [
    {
      "cell_type": "markdown",
      "metadata": {
        "id": "view-in-github",
        "colab_type": "text"
      },
      "source": [
        "<a href=\"https://colab.research.google.com/github/PindropHailstorm/Sem-1-DSC-1-Practicals/blob/main/roots_quadratic_equation.ipynb\" target=\"_parent\"><img src=\"https://colab.research.google.com/assets/colab-badge.svg\" alt=\"Open In Colab\"/></a>"
      ]
    },
    {
      "cell_type": "code",
      "execution_count": null,
      "metadata": {
        "id": "Y8Sxwe_qHegH"
      },
      "outputs": [],
      "source": [
        "\n",
        "print(\"To find the roots of a quadratic equation of the form ax^2 + bx + c, please input the values of a, b and c\")"
      ]
    },
    {
      "cell_type": "code",
      "source": [
        "a = input(\"Input the value of a , a = \")\n",
        "a = int(a)"
      ],
      "metadata": {
        "id": "TttzoIvZI6I8"
      },
      "execution_count": null,
      "outputs": []
    },
    {
      "cell_type": "code",
      "source": [
        "b = input(\"Input the value of b , b = \")\n",
        "b = int(b)"
      ],
      "metadata": {
        "id": "7T3oMJNuJBCT"
      },
      "execution_count": null,
      "outputs": []
    },
    {
      "cell_type": "code",
      "source": [
        "\n",
        "c = input(\"Input the value of c , c = \")\n",
        "c = int(c)"
      ],
      "metadata": {
        "id": "M9FF5ywiJthf"
      },
      "execution_count": null,
      "outputs": []
    },
    {
      "cell_type": "code",
      "source": [
        "root1 = (-b + (b ** 2 - 4 * a * c) ** 0.5) / 2 * a\n",
        "root2 = (-b + (b ** 2 - 4 * a * c) ** 0.5) / 2 * a\n",
        "if root1!=root2:\n",
        "   print(\"The roots of the equation  are\", root1, root2)\n",
        "else: print(\"The root of the equation is\", root1)"
      ],
      "metadata": {
        "id": "aiHVj0vHKBMP"
      },
      "execution_count": null,
      "outputs": []
    },
    {
      "cell_type": "code",
      "source": [],
      "metadata": {
        "id": "AxQq7TSSkDfe"
      },
      "execution_count": null,
      "outputs": []
    }
  ]
}